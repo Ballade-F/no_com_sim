{
 "cells": [
  {
   "cell_type": "code",
   "execution_count": 19,
   "metadata": {},
   "outputs": [
    {
     "data": {
      "text/plain": [
       "[(49.5, 63.5),\n",
       " (50.5, 62.5),\n",
       " (51.5, 61.5),\n",
       " (52.5, 60.5),\n",
       " (53.5, 59.5),\n",
       " (54.5, 58.5),\n",
       " (55.5, 57.5),\n",
       " (56.5, 56.5),\n",
       " (57.5, 55.5),\n",
       " (58.5, 54.5),\n",
       " (59.5, 53.5),\n",
       " (60.5, 52.5),\n",
       " (61.5, 51.5),\n",
       " (62.5, 50.5),\n",
       " (63.5, 49.5),\n",
       " (63.5, 48.5),\n",
       " (63.5, 47.5),\n",
       " (63.5, 46.5),\n",
       " (63.5, 45.5),\n",
       " (63.5, 44.5),\n",
       " (63.5, 43.5),\n",
       " (63.5, 42.5),\n",
       " (63.5, 41.5),\n",
       " (63.5, 40.5),\n",
       " (63.5, 39.5),\n",
       " (63.5, 38.5),\n",
       " (63.5, 37.5),\n",
       " (63.5, 36.5),\n",
       " (64.5, 35.5),\n",
       " (65.5, 34.5),\n",
       " (66.5, 33.5),\n",
       " (67.5, 32.5),\n",
       " (68.5, 31.5),\n",
       " (69.5, 30.5),\n",
       " (70.5, 29.5),\n",
       " (71.5, 28.5),\n",
       " (72.5, 27.5),\n",
       " (73.5, 26.5),\n",
       " (74.5, 25.5),\n",
       " (75.5, 24.5),\n",
       " (76.5, 23.5),\n",
       " (77.5, 22.5),\n",
       " (78.5, 21.5),\n",
       " (79.5, 20.5),\n",
       " (80.5, 19.5),\n",
       " (80.5, 18.5),\n",
       " (81.5, 17.5),\n",
       " (81.5, 16.5),\n",
       " (82.5, 15.5),\n",
       " (82.5, 14.5),\n",
       " (83.5, 13.5),\n",
       " (83.5, 12.5),\n",
       " (83.5, 11.5),\n",
       " (84.5, 10.5),\n",
       " (84.5, 9.5),\n",
       " (85.5, 8.5),\n",
       " (85.5, 7.5),\n",
       " (86.5, 6.5),\n",
       " (86.5, 5.5),\n",
       " (87.5, 4.5),\n",
       " (87.5, 3.5),\n",
       " (88.5, 2.5),\n",
       " (88.5, 1.5)]"
      ]
     },
     "execution_count": 19,
     "metadata": {},
     "output_type": "execute_result"
    }
   ],
   "source": [
    "import numpy as np\n",
    "import matplotlib.pyplot as plt\n",
    "import map as mp\n",
    "import ctrl\n",
    "import path_planner\n",
    "from task_allocation import hungarian\n",
    "import time as TM\n",
    "\n",
    "\n",
    "n_starts = 4\n",
    "n_tasks = 4\n",
    "map = mp.Map(10, n_starts, n_tasks, 100, 100, 1, 1)\n",
    "map.setObstacleRandn(2026)\n",
    "# map.plot()\n",
    "# map.plotGrid()\n",
    "astar_planner = path_planner.AStarPlanner(map.grid_map, map.resolution_x, map.resolution_y)\n",
    "starts = map.starts_grid\n",
    "tasks = map.tasks_grid\n",
    "\n",
    "# calculate the distance matrix\n",
    "dist_matrix = np.zeros((n_starts, n_tasks))\n",
    "path_matrix = []\n",
    "# for i in range(n_starts):\n",
    "#     for j in range(n_tasks):\n",
    "i=0\n",
    "j=0\n",
    "astar_planner.resetNodes()\n",
    "#path is index of grid nodes\n",
    "path, dist_matrix[i, j] = astar_planner.plan(starts[i], tasks[j])\n",
    "x = [((p[0] + 0.5)*map.resolution_x, (p[1]+0.5)*map.resolution_y) for p in path]\n",
    "path = x"
   ]
  },
  {
   "cell_type": "code",
   "execution_count": 28,
   "metadata": {},
   "outputs": [
    {
     "data": {
      "text/plain": [
       "<matplotlib.image.AxesImage at 0x7f0ae9bf3890>"
      ]
     },
     "execution_count": 28,
     "metadata": {},
     "output_type": "execute_result"
    },
    {
     "data": {
      "image/png": "[encoded data removed]",
      "text/plain": [
       "<Figure size 640x480 with 1 Axes>"
      ]
     },
     "metadata": {},
     "output_type": "display_data"
    }
   ],
   "source": [
    "grid = np.zeros((100,100))\n",
    "fig, ax = plt.subplots()\n",
    "ax.set_xlim(0, map.n_x)\n",
    "ax.set_ylim(0, map.n_y)\n",
    "img = 255-grid\n",
    "img = img.transpose()\n",
    "# img[0,0] = 200\n",
    "ax.imshow(img, cmap='gray',vmin=0, vmax=255)"
   ]
  },
  {
   "cell_type": "code",
   "execution_count": 29,
   "metadata": {},
   "outputs": [
    {
     "name": "stdout",
     "output_type": "stream",
     "text": [
      "Path points have been saved to path_allot.csv\n"
     ]
    }
   ],
   "source": [
    "import csv\n",
    "\n",
    "# 假设 path_allot 是一个包含路径点的列表\n",
    "# 每个路径点是一个元组，例如：[(x1, y1), (x2, y2), ...]\n",
    "path_allot = [\n",
    "    [(0, 1), (1, 2), (2, 3)],\n",
    "    [(3, 4), (4, 5), (5, 6)],\n",
    "    [(6, 7), (7, 8), (8, 9)]\n",
    "]\n",
    "\n",
    "# 打开一个CSV文件进行写入\n",
    "with open('path_allot.csv', 'w', newline='') as csvfile:\n",
    "    csvwriter = csv.writer(csvfile)\n",
    "    \n",
    "    # 写入CSV文件的表头\n",
    "    csvwriter.writerow(['Time Point', 'Path Points'])\n",
    "    \n",
    "    # 遍历每个时间点和对应的路径点\n",
    "    for i, path in enumerate(path_allot):\n",
    "        # 将路径点转换为字符串\n",
    "        path_str = '; '.join([f'({x}, {y})' for x, y in path])\n",
    "        \n",
    "        # 写入时间点和路径点到CSV文件\n",
    "        csvwriter.writerow([i, path_str])\n",
    "\n",
    "print(\"Path points have been saved to path_allot.csv\")"
   ]
  },
  {
   "cell_type": "code",
   "execution_count": 30,
   "metadata": {},
   "outputs": [
    {
     "name": "stdout",
     "output_type": "stream",
     "text": [
      "Path points have been saved to path_allot.csv\n"
     ]
    }
   ],
   "source": [
    "import csv\n",
    "\n",
    "# 假设 path_allot 是一个包含路径点的列表\n",
    "# 每个路径点是一个元组，例如：[(x1, y1), (x2, y2), ...]\n",
    "path_allot = [\n",
    "    [(0, 1), (1, 2), (2, 3)],\n",
    "    [(3, 4), (4, 5)],\n",
    "    [(6, 7), (7, 8), (8, 9), (9, 10)]\n",
    "]\n",
    "\n",
    "# 找到最长的路径长度\n",
    "max_length = max(len(path) for path in path_allot)\n",
    "\n",
    "# 打开一个CSV文件进行写入\n",
    "with open('path_allot.csv', 'w', newline='') as csvfile:\n",
    "    csvwriter = csv.writer(csvfile)\n",
    "    \n",
    "    # 写入CSV文件的表头\n",
    "    header = ['Time Point'] + [f'Path Point {i+1}' for i in range(max_length)]\n",
    "    csvwriter.writerow(header)\n",
    "    \n",
    "    # 遍历每个时间点和对应的路径点\n",
    "    for i, path in enumerate(path_allot):\n",
    "        # 将路径点转换为字符串，并填充空值\n",
    "        row = [i] + [f'({x}, {y})' for x, y in path] + [''] * (max_length - len(path))\n",
    "        \n",
    "        # 写入时间点和路径点到CSV文件\n",
    "        csvwriter.writerow(row)\n",
    "\n",
    "print(\"Path points have been saved to path_allot.csv\")"
   ]
  },
  {
   "cell_type": "code",
   "execution_count": 2,
   "metadata": {},
   "outputs": [
    {
     "name": "stdout",
     "output_type": "stream",
     "text": [
      "2024-10-04 22:35\n"
     ]
    }
   ],
   "source": [
    "import time\n",
    "\n",
    "# 获取当前时间，精确到分钟\n",
    "current_time = time.localtime()\n",
    "formatted_time = time.strftime(\"%Y-%m-%d %H:%M\", current_time)\n",
    "\n",
    "print(formatted_time)"
   ]
  },
  {
   "cell_type": "code",
   "execution_count": 6,
   "metadata": {},
   "outputs": [
    {
     "data": {
      "text/plain": [
       "[3, 3, 3, 0]"
      ]
     },
     "execution_count": 6,
     "metadata": {},
     "output_type": "execute_result"
    }
   ],
   "source": [
    "path = [[1,2,3],[4,5,6],[7,8,9],[]]\n",
    "path_num = [len(p) for p in path]\n",
    "path_num"
   ]
  },
  {
   "cell_type": "code",
   "execution_count": 7,
   "metadata": {},
   "outputs": [
    {
     "name": "stdout",
     "output_type": "stream",
     "text": [
      "[1. 0. 1. 1. 1.]\n",
      "[0. 0. 0. 0. 0.]\n"
     ]
    }
   ],
   "source": [
    "from math import *\n",
    "import numpy as np\n",
    "\n",
    "def forward(state, u, dt):\n",
    "    state[0] += u[0] * dt * cos(state[2])\n",
    "    state[1] += u[0] * dt * sin(state[2])\n",
    "    state[2] += u[1] * dt\n",
    "    state[3] = u[0]\n",
    "    state[4] = u[1]\n",
    "    return state\n",
    "\n",
    "state0 = np.zeros(5)\n",
    "u = [1, 1]\n",
    "dt = 1\n",
    "state1 = state0.copy()  # 使用 numpy 的 copy 方法\n",
    "state = forward(state1, u, dt)\n",
    "print(state)\n",
    "print(state0)"
   ]
  },
  {
   "cell_type": "code",
   "execution_count": 4,
   "metadata": {},
   "outputs": [
    {
     "name": "stdout",
     "output_type": "stream",
     "text": [
      "[[1. 0. 0.]\n",
      " [0. 0. 0.]\n",
      " [0. 0. 0.]]\n",
      "2\n",
      "[[1. 0. 0.]\n",
      " [0. 0. 0.]\n",
      " [0. 0. 0.]]\n",
      "[[0. 0. 0.]\n",
      " [0. 0. 0.]\n",
      " [0. 0. 0.]]\n"
     ]
    }
   ],
   "source": [
    "import numpy as np\n",
    "\n",
    "test = np.zeros((3, 3))\n",
    "target = np.zeros((3, 3))\n",
    "def test_func(data,t):\n",
    "    t = data\n",
    "    data[0, 0] = 1\n",
    "    temp = data[0,1]\n",
    "    temp = 2\n",
    "    return data, temp\n",
    "test_, temp_ = test_func(test,target)\n",
    "print(test_)\n",
    "print(temp_)\n",
    "print(test)\n",
    "print(target)"
   ]
  },
  {
   "cell_type": "code",
   "execution_count": 2,
   "metadata": {},
   "outputs": [
    {
     "name": "stdout",
     "output_type": "stream",
     "text": [
      "[1, 2, 3, 5]\n"
     ]
    }
   ],
   "source": [
    "testlist = [1,2,3,4,5]\n",
    "testlist.pop(3)\n",
    "print(testlist)"
   ]
  },
  {
   "cell_type": "code",
   "execution_count": null,
   "metadata": {},
   "outputs": [],
   "source": [
    "import numpy as np\n",
    "\n",
    "test = np.random.rand(3, 2)\n",
    "print(test)\n",
    "min_test = np.min(test, axis=0)\n",
    "print(min_test)"
   ]
  }
 ],
 "metadata": {
  "kernelspec": {
   "display_name": "dl",
   "language": "python",
   "name": "python3"
  },
  "language_info": {
   "codemirror_mode": {
    "name": "ipython",
    "version": 3
   },
   "file_extension": ".py",
   "mimetype": "text/x-python",
   "name": "python",
   "nbconvert_exporter": "python",
   "pygments_lexer": "ipython3",
   "version": "3.8.19"
  }
 },
 "nbformat": 4,
 "nbformat_minor": 2
}
