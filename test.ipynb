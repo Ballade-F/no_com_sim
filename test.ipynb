{
 "cells": [
  {
   "cell_type": "code",
   "execution_count": 1,
   "metadata": {},
   "outputs": [],
   "source": [
    "import numpy as np\n",
    "import heapq\n",
    "\n",
    "class astar_node():\n",
    "    def __init__(self, x:int, y:int):\n",
    "        self.x = x\n",
    "        self.y = y\n",
    "        self.g = float('inf')\n",
    "        self.h = 0\n",
    "        self.f = float('inf')\n",
    "        self.parent = None\n",
    "        # flag for open list and close list\n",
    "        self.set_flag = 0\n",
    "\n",
    "    def __eq__(self, other):\n",
    "        return self.x == other.x and self.y == other.y\n",
    "    \n",
    "    def __lt__(self, other):\n",
    "        return self.f < other.f\n",
    "\n",
    "    def reset(self):\n",
    "        self.g = float('inf')\n",
    "        self.h = 0\n",
    "        self.f = float('inf')\n",
    "        self.parent = None\n",
    "        self.set_flag = 0"
   ]
  },
  {
   "cell_type": "code",
   "execution_count": 3,
   "metadata": {},
   "outputs": [
    {
     "name": "stdout",
     "output_type": "stream",
     "text": [
      "1\n",
      "1\n"
     ]
    }
   ],
   "source": [
    "node_root = astar_node(0, 0)\n",
    "node_root.g = 0\n",
    "node_root.h = 0\n",
    "node_root.f = 10\n",
    "\n",
    "node_test = node_root\n",
    "open_list = []\n",
    "# heapq is a priority queue\n",
    "# push the start node into the open list\n",
    "heapq.heappush(open_list,  node_test)\n",
    "node_test.f = 1\n",
    "print(open_list[0].f)\n",
    "print(node_root.f)"
   ]
  }
 ],
 "metadata": {
  "kernelspec": {
   "display_name": "base",
   "language": "python",
   "name": "python3"
  },
  "language_info": {
   "codemirror_mode": {
    "name": "ipython",
    "version": 3
   },
   "file_extension": ".py",
   "mimetype": "text/x-python",
   "name": "python",
   "nbconvert_exporter": "python",
   "pygments_lexer": "ipython3",
   "version": "3.12.4"
  }
 },
 "nbformat": 4,
 "nbformat_minor": 2
}
